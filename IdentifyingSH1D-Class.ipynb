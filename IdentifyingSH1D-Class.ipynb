{
 "cells": [
  {
   "cell_type": "markdown",
   "id": "829cc210",
   "metadata": {},
   "source": [
    "# Discovering and Learning the 1D Swift Hohenberg Equation\n",
    "\n",
    "This file implements the Physics Informed Neural Networks (PINN) and Deep Hidden Phyics Models (DHPM) classes written by Maziar Raissi and modifies them to apply to the Swift-Hohenberg equation. Please refer to the following for more information:  \n",
    "https://github.com/maziarraissi/PINNs\n",
    "https://github.com/maziarraissi/DeepHPMs"
   ]
  },
  {
   "cell_type": "markdown",
   "id": "5b15f073",
   "metadata": {},
   "source": [
    "## Set Up and Introduction \n",
    "The Swift-Hohenberg equation \n",
    "$$u_t = -(1+\\Delta)^2 u - \\mu u + \\nu u^2 - u^3 $$\n",
    "was derived in 1977 by Swift and Hohenberg to study thermal fluctuations of a fluid. We will be interested in the 1 dimensional Swift-Hohenberg equation, meaning $u = u(x,t)$ with $x,t \\in \\mathbb R$. \n",
    "\n",
    "This notebook is a companion to the notebook titled 'SolvingSH1D_Class.ipynb'. In this notebook, we will train a deep feed-forward neural network to predict the parameters $\\mu$ and $\\nu$ present in the PDE. Later we will train a different deep neural network to identify the PDE itself and then we will train another neural network to solve the PDE. \n",
    "\n",
    "It is important to note that this file uses version 1.14 of Tensorflow and Python 3.7 and will not be compatible with newer versions."
   ]
  },
  {
   "cell_type": "code",
   "execution_count": 1,
   "id": "d3bef8f4",
   "metadata": {
    "tags": []
   },
   "outputs": [],
   "source": [
    "import warnings\n",
    "warnings.filterwarnings('ignore')\n",
    "\n",
    "import tensorflow as tf\n",
    "import numpy as np\n",
    "import matplotlib.pyplot as plt\n",
    "import matplotlib as mpl\n",
    "from matplotlib import rc\n",
    "import scipy.io\n",
    "import scipy.stats\n",
    "from scipy.interpolate import griddata\n",
    "from pyDOE import lhs\n",
    "from mpl_toolkits.mplot3d import Axes3D\n",
    "import time\n",
    "import matplotlib.gridspec as gridspec\n",
    "from mpl_toolkits.axes_grid1 import make_axes_locatable\n",
    "import os\n",
    "import numpy as np\n",
    "import pandas as pd"
   ]
  },
  {
   "cell_type": "code",
   "execution_count": 2,
   "id": "04b8f96e-2f86-44d7-bfd4-3d96cab5c309",
   "metadata": {},
   "outputs": [
    {
     "data": {
      "text/plain": [
       "'1.14.0'"
      ]
     },
     "execution_count": 2,
     "metadata": {},
     "output_type": "execute_result"
    }
   ],
   "source": [
    "tf.__version__"
   ]
  },
  {
   "cell_type": "code",
   "execution_count": 3,
   "id": "7b085cf4",
   "metadata": {},
   "outputs": [],
   "source": [
    "np.random.seed(1234)\n",
    "tf.set_random_seed(1234)\n",
    "\n",
    "import sys\n",
    "sys.path.insert(0, '../../Utilities/')\n",
    "\n",
    "import PhysicsInformedNN1 as NN\n",
    "import DeepHiddenPhysicsModels1 as HPNN"
   ]
  },
  {
   "cell_type": "markdown",
   "id": "4f30b7f7",
   "metadata": {},
   "source": [
    "Configure the file path here -- use cd and ls. "
   ]
  },
  {
   "cell_type": "markdown",
   "id": "542f0224-e93a-4d22-ad72-f11a53afa6fb",
   "metadata": {},
   "source": [
    "## Data Preprocessing\n",
    "First, we initialize the parameters and load the data. This data was generated via the matlab file titled 'sh_1d.m' and contains values for the solution $u(x,t)$ at $N = 512$ points in the spatial domain and $T = 201$ points in the temporal domain. The snapshots are $\\Delta t = .025$ apart. \n",
    "\n",
    "In particular, we used a Fourier discretization with $250$ modes and a fourth order Runge-Kutta temporal integrator with time step size $10^{-4}$ within the Chebfun package."
   ]
  },
  {
   "cell_type": "code",
   "execution_count": 4,
   "id": "f1427d5f-4b6d-49b2-9541-f83b308cd7e0",
   "metadata": {},
   "outputs": [],
   "source": [
    "# load the data\n",
    "# data is a dictionary\n",
    "data = scipy.io.loadmat(\"data/exp1d_HD.mat\")\n",
    "\n",
    "# set the parameter values\n",
    "mu=1\n",
    "nu=1.2"
   ]
  },
  {
   "cell_type": "markdown",
   "id": "53edadb8-ad3c-413d-9d28-eeac1dd894ea",
   "metadata": {},
   "source": [
    "This is a multidimensional array containing $(x,t)$ values and solution values, $u(x,t)$ obtained using Chebfun in Matlab. \n",
    "\n",
    "The data vaThe spatial variable $x$ is under the key 'spatial_vec', the temporal variable $t$ is under the key 't_span' and the value of the solution $u(x,t)$ is under the key 'data'."
   ]
  },
  {
   "cell_type": "code",
   "execution_count": 5,
   "id": "3fef7a51",
   "metadata": {
    "tags": []
   },
   "outputs": [
    {
     "name": "stdout",
     "output_type": "stream",
     "text": [
      "The keys are: ['__globals__', '__header__', '__version__', 'data', 'spatial_vec', 'tspan']\n",
      "The size of tspan: (1, 201)\n",
      "The size of data: (512, 201)\n",
      "The size of spatial_vec: (1, 512)\n"
     ]
    }
   ],
   "source": [
    "print('The keys are:', sorted(data.keys()))\n",
    "print('The size of ''tspan'':', np.shape(data['tspan']))\n",
    "print('The size of ''data'':', np.shape(data['data']))\n",
    "print('The size of ''spatial_vec'':', np.shape(data['spatial_vec']))"
   ]
  },
  {
   "cell_type": "markdown",
   "id": "b1625d70-993b-474e-a94d-94ac1a4e9273",
   "metadata": {},
   "source": [
    "Now we work to format the initial data. "
   ]
  },
  {
   "cell_type": "code",
   "execution_count": 6,
   "id": "119717b1-4439-4dca-91e1-74280386e09e",
   "metadata": {},
   "outputs": [],
   "source": [
    "## Extract the values for x and t\n",
    "t = data['tspan'].flatten()[:,None]\n",
    "x = data['spatial_vec'].flatten()[:,None]\n",
    "# Extract the solution values\n",
    "true_sol = np.real(data['data']).T\n",
    "\n",
    "# Construct a coordinate grid for the domain data\n",
    "X,T = np.meshgrid(x,t)"
   ]
  },
  {
   "cell_type": "code",
   "execution_count": 7,
   "id": "ca09e00c-f823-4481-af7e-ff6d810aa4e9",
   "metadata": {},
   "outputs": [
    {
     "name": "stdout",
     "output_type": "stream",
     "text": [
      "Lower bound (x,t):  [0. 0.]\n",
      "Upper bound (x,t):  [20.  5.]\n"
     ]
    }
   ],
   "source": [
    "# Formats the domain data as a column vector with rows of the form (x,t)\n",
    "domain_col = np.hstack((X.flatten()[:,None], T.flatten()[:,None]))\n",
    "u_col = true_sol.flatten()[:,None]              \n",
    "\n",
    "# Get domain bounds in the form (x,t)\n",
    "lb = domain_col.min(0)\n",
    "ub = domain_col.max(0) \n",
    "\n",
    "print('Lower bound (x,t): ', lb)\n",
    "print('Upper bound (x,t): ', ub)"
   ]
  },
  {
   "cell_type": "markdown",
   "id": "7bfee7fd-8630-4bc2-a2a1-97d836306873",
   "metadata": {},
   "source": [
    "## Learning Parameters\n",
    "\n",
    "\n",
    "In this section, we will work with unperturbed data only. The initial value problem we will be interested in as as follows: \n",
    "\n",
    "\\begin{align*}u_t & = -u_{xxxx} - 2 u_{xx} +(-1+\\mu)u + \\nu u^2 - u^3, \\qquad\\qquad x \\in [0,20], \\quad t \\in [0,5] \\\\\n",
    "u(0,x) & = \\exp \\left\\{-(x-10)^2  \\right\\} \\\\ \n",
    "\\end{align*}\n",
    "\n",
    "Define \n",
    "\\begin{align*}\n",
    "f(u) & = u_t + \\mathcal N(u)\\\\\n",
    " & = u_t+u_{xxxx} + 2 u_{xx} -(-1+\\mu)u - \\nu u^2 + u^3\n",
    "\\end{align*}\n",
    "\n",
    "The parameter $\\mu$ can be thought of as measuring how far the temperature is above the minimum temperature required for convection. We will see if the neural network can predict the parameters for the Swift-Hohenberg equation. We will do this for unperturbed data and data with added noise sampled from a standard Gaussian distribution.\n",
    "### Unperturbed Data\n",
    "First we work with unperturbed data. Furthermore, we will train the model with data taken from the interior of the domain. As in the previous notebook (see 'SolvingSH1D-Class.ipynb'), we express the unknown solution $u(t,x)$ as a neural network and we define the function $f(u)$ via \n",
    "$$f(u) = u_t - \\mathcal N(u;\\mu, \\nu).$$\n",
    "Previously, the parameters $\\mu, \\nu$ were known. Now $\\mu$ and $\\nu$ are shared unknown parameters of $u_t$ and $\\mathcal N(u;\\mu,\\nu)$. These parameters are determined by minimizing the squared error loss: \n",
    "\\begin{align*} MSE & = MSE_f + MSU_u \\\\\n",
    "& = \\frac{1}{N} \\sum_{i = 1}^N \\bigg( \\|\\hat u(t_i, x_i) - u(t_i,x_i) \\|^2 + \\|f(t_i, x_i)\\|^2 \\bigg).\n",
    "\\end{align*}\n",
    "\n",
    "#### Initialize Neural Network \n",
    "The training data is randomly sampled from the interior of the domain. We initially use $400$ training points. Additionally, we use $8$ hidden layers with $20$ nodes in each layer. "
   ]
  },
  {
   "cell_type": "code",
   "execution_count": 8,
   "id": "274cdf82",
   "metadata": {},
   "outputs": [
    {
     "name": "stdout",
     "output_type": "stream",
     "text": [
      "WARNING:tensorflow:\n",
      "The TensorFlow contrib module will not be included in TensorFlow 2.0.\n",
      "For more information, please see:\n",
      "  * https://github.com/tensorflow/community/blob/master/rfcs/20180907-contrib-sunset.md\n",
      "  * https://github.com/tensorflow/addons\n",
      "  * https://github.com/tensorflow/io (for I/O related ops)\n",
      "If you depend on functionality not listed there, please file an issue.\n",
      "\n"
     ]
    }
   ],
   "source": [
    "# Set number of training points, collocation points and layers/neurons\n",
    "layers = [2, 20, 20, 20, 20, 20, 20, 20, 20, 1]\n",
    "\n",
    "# Choose number of training data\n",
    "Num=400\n",
    "# Now our training data is not boundary data, but is taken from all over the spatial domain.\n",
    "indices = np.random.choice(domain_col.shape[0], Num, replace=False)\n",
    "X_u_train = domain_col[indices,:]\n",
    "u_train = u_col[indices,:]\n",
    "\n",
    "# initialize model\n",
    "model = NN.PINN(X_u_train, u_train, None, layers, lb, ub,mu, nu, True)"
   ]
  },
  {
   "cell_type": "markdown",
   "id": "85b7392f-4d8d-4ae5-bdf7-f63f8b220a3e",
   "metadata": {},
   "source": [
    "#### Train and Predict"
   ]
  },
  {
   "cell_type": "code",
   "execution_count": 9,
   "id": "9b2ab95b",
   "metadata": {},
   "outputs": [
    {
     "name": "stdout",
     "output_type": "stream",
     "text": [
      "INFO:tensorflow:Optimization terminated with:\n",
      "  Message: CONVERGENCE: REL_REDUCTION_OF_F_<=_FACTR*EPSMCH\n",
      "  Objective function value: 0.000152\n",
      "  Number of iterations: 8009\n",
      "  Number of functions evaluations: 8785\n"
     ]
    }
   ],
   "source": [
    "# Train the model and predict u, f\n",
    "model.train(0, True)\n",
    "u_pred, f_pred = model.predict(domain_col, True)"
   ]
  },
  {
   "cell_type": "code",
   "execution_count": 10,
   "id": "9fa5d158",
   "metadata": {},
   "outputs": [
    {
     "name": "stdout",
     "output_type": "stream",
     "text": [
      "Error u: 3.259434e+00\n",
      "Relative Error u: 1.269748e-02\n",
      "Error mu: 1.33638%\n",
      "Error nu: 0.74401%\n",
      "Estimated mu value: 0.98664\n",
      "Estimated nu value: 1.20744\n"
     ]
    }
   ],
   "source": [
    "# get errors\n",
    "error_u = np.linalg.norm(u_col-u_pred,2)\n",
    "u_pred = griddata(domain_col, u_pred.flatten(), (X, T), method='cubic')\n",
    "\n",
    "# get estimated parameter values and compute error\n",
    "mu_value = model.sess.run(model.mu_find)\n",
    "nu_value = model.sess.run(model.nu_find)\n",
    "    \n",
    "error_mu = np.abs(mu_value - mu)*100\n",
    "error_nu = np.abs(nu_value - nu) * 100\n",
    "\n",
    "# print\n",
    "print('Error u: %e' % (error_u))   \n",
    "print('Relative Error u: %e' % (error_u/np.linalg.norm(u_col,2)))    \n",
    "print('Error mu: %.5f%%' % (error_mu))                             \n",
    "print('Error nu: %.5f%%' % (error_nu))  \n",
    "print('Estimated mu value: %.5f' %  mu_value)\n",
    "print('Estimated nu value: %.5f' %  nu_value)"
   ]
  },
  {
   "cell_type": "markdown",
   "id": "4dc1cf36-7606-4ce0-8be2-29852607ba26",
   "metadata": {},
   "source": [
    "We see that the model is able to determine $\\mu$ and $\\nu$ with reasonable accuracy. "
   ]
  },
  {
   "cell_type": "markdown",
   "id": "f7dcd84d",
   "metadata": {},
   "source": [
    "### Perturbed Data\n",
    "Now we add noise to our data. This means our measurements $u$ now of the form \n",
    "$$ u_i = u(x_i,t_i) + \\epsilon_i,$$\n",
    "where $\\epsilon_i \\sim N(0,\\sigma^2)$ and $u(x,t)$ is the true model.\n",
    "\n",
    "More precisely, $\\epsilon_i$ will always have zero mean, but $\\sigma^2$ will be given by\n",
    "$$ \\sigma^2 = (n\\sigma_u)^2,$$\n",
    "where $n$ is a scalar noise level that can be altered and $\\sigma^2_u$ is the variance of the distribution of the unperturbed measurements $u$.\n",
    "\n",
    "#### Initialize the Neural Network\n",
    "We choose an initial noise scaling $n = .02$. The model of the architecture remains the same as that in the previous section. We still use $400$ training points. "
   ]
  },
  {
   "cell_type": "code",
   "execution_count": 11,
   "id": "68bb42f2",
   "metadata": {},
   "outputs": [],
   "source": [
    "# choose the noise factor\n",
    "noise = 0.02        \n",
    "u_train = u_train + noise*np.std(u_train)*np.random.randn(u_train.shape[0], u_train.shape[1])\n",
    "\n",
    "# initialize the model\n",
    "model = NN.PINN(X_u_train, u_train, None, layers, lb, ub, mu, nu, True)"
   ]
  },
  {
   "cell_type": "markdown",
   "id": "0c8be57b-855e-435b-bcd3-f567f6220ea8",
   "metadata": {},
   "source": [
    "#### Train and Predict \n",
    "We perform $1000$ iterations to train the model. "
   ]
  },
  {
   "cell_type": "code",
   "execution_count": 12,
   "id": "29507243-d3eb-4ba2-91c6-823ca8e1a335",
   "metadata": {},
   "outputs": [
    {
     "name": "stdout",
     "output_type": "stream",
     "text": [
      "INFO:tensorflow:Optimization terminated with:\n",
      "  Message: CONVERGENCE: REL_REDUCTION_OF_F_<=_FACTR*EPSMCH\n",
      "  Objective function value: 0.000399\n",
      "  Number of iterations: 7410\n",
      "  Number of functions evaluations: 8176\n"
     ]
    }
   ],
   "source": [
    "Niter = 1000\n",
    "model.train(Niter, True)"
   ]
  },
  {
   "cell_type": "code",
   "execution_count": 13,
   "id": "f2372881",
   "metadata": {},
   "outputs": [],
   "source": [
    "# make predictions using the trained model \n",
    "u_pred, f_pred = model.predict(domain_col, True)"
   ]
  },
  {
   "cell_type": "code",
   "execution_count": 14,
   "id": "65270fb1",
   "metadata": {},
   "outputs": [
    {
     "name": "stdout",
     "output_type": "stream",
     "text": [
      "Error of u: 3.901137e+00\n",
      "Relative Error of u: 1.519730e-02\n",
      "\n",
      "Error of mu: 1.07740%\n",
      "Error of nu: 0.56553%\n",
      "\n",
      "Estimated mu value: 0.98923\n",
      "Estimated nu value: 1.20566\n",
      "\n",
      "True mu value: 1.00000\n",
      "True nu value: 1.20000\n"
     ]
    }
   ],
   "source": [
    "# get errors\n",
    "error_u = np.linalg.norm(u_col-u_pred,2)\n",
    "u_pred = griddata(domain_col, u_pred.flatten(), (X, T), method='cubic')\n",
    "\n",
    "# get predicted mu and nu values\n",
    "mu_value_noisy = model.sess.run(model.mu_find)\n",
    "nu_value_noisy = model.sess.run(model.nu_find)\n",
    "    \n",
    "# compute errors\n",
    "error_mu_noisy = np.abs(mu_value_noisy - mu)*100\n",
    "error_nu_noisy = np.abs(nu_value_noisy - nu) * 100\n",
    "\n",
    "# print the errors\n",
    "print('Error of u: %e' % (error_u))  \n",
    "print('Relative Error of u: %e' % (error_u/np.linalg.norm(u_col,2))) \n",
    "print()\n",
    "print('Error of mu: %.5f%%' % (error_mu_noisy))                         \n",
    "print('Error of nu: %.5f%%' % (error_nu_noisy))  \n",
    "print()\n",
    "print('Estimated mu value: %.5f' %  mu_value_noisy)\n",
    "print('Estimated nu value: %.5f' %  nu_value_noisy)\n",
    "print()\n",
    "print('True mu value: %.5f' %  mu)\n",
    "print('True nu value: %.5f' %  nu)"
   ]
  },
  {
   "cell_type": "code",
   "execution_count": 15,
   "id": "40f149bc",
   "metadata": {},
   "outputs": [
    {
     "data": {
      "image/png": "[encoded data removed]",
      "text/plain": [
       "<Figure size 432x288 with 2 Axes>"
      ]
     },
     "metadata": {
      "needs_background": "light"
     },
     "output_type": "display_data"
    }
   ],
   "source": [
    "# plot as before\n",
    "fig, ax = plt.subplots()\n",
    "\n",
    "h = ax.imshow(u_pred.T, interpolation='nearest', cmap='Spectral', \n",
    "              extent=[t.min(), t.max(), x.min(), x.max()], \n",
    "              origin='lower', aspect='auto')\n",
    "divider = make_axes_locatable(ax)\n",
    "cax = divider.append_axes(\"right\", size=\"5%\", pad=0.05)\n",
    "fig.colorbar(h, cax=cax)\n",
    "\n",
    "ax.plot(X_u_train[:,1], X_u_train[:,0], 'kx', label = 'Training Data (%d points)' % (u_train.shape[0]), markersize = 3, clip_on = False)\n",
    "\n",
    "line = np.linspace(x.min(), x.max(), 2)[:,None]\n",
    "ax.plot(t[40]*np.ones((2,1)), line, 'k--', linewidth = 1, label = 'Time slice')\n",
    "ax.plot(t[80]*np.ones((2,1)), line, 'k--', linewidth = 1)\n",
    "ax.plot(t[120]*np.ones((2,1)), line, 'k--', linewidth = 1)    \n",
    "ax.plot(t[160]*np.ones((2,1)), line, 'k--', linewidth = 1)    \n",
    "\n",
    "ax.set_xlabel('$t$')\n",
    "ax.set_ylabel('$x$')\n",
    "ax.legend(loc='upper center', bbox_to_anchor=(0.5, -0.15), ncol=5, frameon=False)\n",
    "ax.set_title('Learned Dynamics with Noisy Data', fontsize = 10)\n",
    "\n",
    "fig.savefig('pdfHD_rolls_1_pred_noise.pdf',  bbox_inches='tight')\n",
    "\n",
    "fig.show()"
   ]
  },
  {
   "cell_type": "code",
   "execution_count": 16,
   "id": "5b786c3c",
   "metadata": {},
   "outputs": [
    {
     "data": {
      "image/png": "[encoded data removed]",
      "text/plain": [
       "<Figure size 432x288 with 4 Axes>"
      ]
     },
     "metadata": {
      "needs_background": "light"
     },
     "output_type": "display_data"
    }
   ],
   "source": [
    "# plot as before\n",
    "\n",
    "fig, ax = plt.subplots()\n",
    "\n",
    "gs1 = gridspec.GridSpec(2, 2)\n",
    "gs1.update(left=0.1, right=0.9, hspace=0.5)\n",
    "\n",
    "#fig.suptitle('True and Predicted Solution at Fixed Times with Perturbed Data')\n",
    "\n",
    "\n",
    "\n",
    "ax = plt.subplot(gs1[0, 0])\n",
    "ax.plot(x,true_sol[40,:], 'b-', linewidth = 2, label = 'Exact')       \n",
    "ax.plot(x,u_pred[40,:], 'r--', linewidth = 2, label = 'Prediction')\n",
    "#ax.set_xlabel('$x$')\n",
    "ax.set_ylabel('$u(t,x)$')    \n",
    "ax.set_title('$t = 1.0$', fontsize = 10)\n",
    "ax.axis('square')\n",
    "ax.set_xlim([-0.1,20.1])\n",
    "ax.set_ylim([-2.1,3.1])\n",
    "\n",
    "ax = plt.subplot(gs1[0, 1])\n",
    "ax.plot(x,true_sol[80,:], 'b-', linewidth = 2, label = 'Exact')       \n",
    "ax.plot(x,u_pred[80,:], 'r--', linewidth = 2, label = 'Prediction')\n",
    "#ax.set_xlabel('$x$')\n",
    "ax.set_ylabel('$u(t,x)$')\n",
    "ax.axis('square')\n",
    "ax.set_xlim([-0.1,20.1])\n",
    "ax.set_ylim([-2.1,3.1])\n",
    "ax.set_title('$t = 2.0$', fontsize = 10)\n",
    "\n",
    "\n",
    "ax = plt.subplot(gs1[1, 0])\n",
    "ax.plot(x,true_sol[120,:], 'b-', linewidth = 2, label = 'Exact')       \n",
    "ax.plot(x,u_pred[120,:], 'r--', linewidth = 2, label = 'Prediction')\n",
    "ax.set_xlabel('$x$')\n",
    "ax.set_ylabel('$u(t,x)$')\n",
    "ax.axis('square')\n",
    "ax.set_xlim([-0.1,20.1])\n",
    "ax.set_ylim([-2.1,3.1])    \n",
    "ax.set_title('$t = 3.0$', fontsize = 10)\n",
    "\n",
    "ax = plt.subplot(gs1[1, 1])\n",
    "ax.plot(x,true_sol[160,:], 'b-', linewidth = 2, label = 'Exact')       \n",
    "ax.plot(x,u_pred[160,:], 'r--', linewidth = 2, label = 'Prediction')\n",
    "ax.set_xlabel('$x$')\n",
    "ax.set_ylabel('$u(t,x)$')\n",
    "ax.axis('square')\n",
    "ax.set_xlim([-0.1,20.1])\n",
    "ax.set_ylim([-2.1,3.1])    \n",
    "ax.set_title('$t = 4.0$', fontsize = 10)\n",
    "ax.legend(loc='upper center', bbox_to_anchor=(-0.6, -0.35), ncol=5, frameon=False)\n",
    "\n",
    "fig.savefig('pdfHD_rolls_1_pred_noise_slice.pdf',  bbox_inches='tight')\n",
    "\n",
    "fig.show()"
   ]
  },
  {
   "cell_type": "markdown",
   "id": "efa55dbf-21a0-455c-83aa-a08b8622aef7",
   "metadata": {},
   "source": [
    "We see that the model is able to both identify the parameters $\\mu$ and $\\nu$ with high accuracy and predict the dynamics of the solution $u(x,t)$."
   ]
  },
  {
   "cell_type": "markdown",
   "id": "279025ea-de66-4038-a720-00b36aad9dd6",
   "metadata": {},
   "source": [
    "### Experimenting with Model Architecture\n",
    "We now want to test the performance of the model on predicting the parameters $\\mu$ and $\\nu$ as we vary the number of layers, number of nodes in each layer, number of training data and the noise value. \n",
    "\n",
    "The following function initializes and trains models for pairwise combinations of the options for the model architecture. "
   ]
  },
  {
   "cell_type": "code",
   "execution_count": null,
   "id": "287f4c72-cc32-439d-9e14-04b35114ab32",
   "metadata": {},
   "outputs": [],
   "source": []
  },
  {
   "cell_type": "code",
   "execution_count": 17,
   "id": "6db015c6",
   "metadata": {},
   "outputs": [],
   "source": [
    "# write a function to compute a bunch of models for different values of noise, layers, neurons, and training points\n",
    "def get_parameter_errors(num_train, noise, num_layers, num_neurons, data):\n",
    "    \n",
    "    # set true parameter values\n",
    "    mu=1\n",
    "    nu = 1.2\n",
    "    \n",
    "    # define the layers\n",
    "    layers = np.concatenate([[2], num_neurons*np.ones(num_layers), [1]]).astype(int).tolist()    \n",
    "    \n",
    "    # get the time, space, and solution data and format it\n",
    "    t = data['tspan'].flatten()[:,None]\n",
    "    x = data['spatial_vec'].flatten()[:,None]\n",
    "    sol = data['data'].T\n",
    "    \n",
    "    X, T = np.meshgrid(x,t)\n",
    "    \n",
    "    dom_col = np.hstack((X.flatten()[:,None], T.flatten()[:,None]))\n",
    "    u_col = sol.flatten()[:,None]              \n",
    "\n",
    "    # get lower bound and upper bound for the domain\n",
    "    lb = dom_col.min(0)\n",
    "    ub = dom_col.max(0)    \n",
    "    \n",
    "    # sample the desired number of training points        \n",
    "    indices = np.random.choice(dom_col.shape[0], num_train, replace=False)\n",
    "    dom_train = dom_col[indices,:]\n",
    "    u_train = u_col[indices,:]\n",
    "    \n",
    "    # add noise\n",
    "    u_train = u_train + noise*np.std(u_train)*np.random.randn(u_train.shape[0], u_train.shape[1])\n",
    "   \n",
    "    # initialize and train the model\n",
    "    model = NN.PINN(dom_train, u_train, None, layers, lb, ub, mu, nu, True)\n",
    "    model.train(1000, True)\n",
    "    \n",
    "    # predict u and f\n",
    "    u_pred, f_pred = model.predict(dom_col, True)\n",
    "    \n",
    "    # get error\n",
    "    error_u = np.linalg.norm(u_col-u_pred,2)\n",
    "    \n",
    "    # extract parameter values\n",
    "    mu_val = model.sess.run(model.mu_find)\n",
    "    nu_val = model.sess.run(model.nu_find)\n",
    "    \n",
    "    # get parameter errors\n",
    "    \n",
    "    error_mu = np.abs(mu_val - mu)*100\n",
    "    error_nu = np.abs(nu_val - nu)*100\n",
    "    \n",
    "    print('Error of u: %e' % (error_u))\n",
    "    print('Relative Error of u: %e' % (error_u/np.linalg.norm(u_col,2)))    \n",
    "    print('Error mu: %.5f%%' % (error_mu))                             \n",
    "    print('Error nu: %.5f%%' % (error_nu))\n",
    "    print('Estimated mu: %.5f' % (mu_val))                             \n",
    "    print('Estimated nu: %.5f' % (nu_val))\n",
    "    \n",
    "    \n",
    "    return error_mu, error_nu"
   ]
  },
  {
   "cell_type": "markdown",
   "id": "cffcf804-fa22-43dc-a4a4-4f622ec3366d",
   "metadata": {},
   "source": [
    "In the previous experiments, we had $8$ hidden layers with $20$ nodes, a noise factor of $0.02$ and $400$ training points. \n",
    "\n",
    "We choose the following values to experiment with: \n",
    "\\begin{align*}\n",
    "\\text{# Training Points: } & 250, 750, 1500\\\\\n",
    "\\text{Noise Levels: } & 0.0, 0.05, 0.1\\\\\n",
    "\\text{# Layers: } & 2, 6, 8\\\\\n",
    "\\text{# Training Points: } & 250, 750, 1500\\\\\n",
    "\\end{align*}"
   ]
  },
  {
   "cell_type": "code",
   "execution_count": 18,
   "id": "721aa5b2",
   "metadata": {
    "tags": []
   },
   "outputs": [],
   "source": [
    "#Set the desired number of training points, noise, layer, neurons\n",
    "N = [250, 750, 1500]\n",
    "noise = [0.0, 0.05, 0.1]\n",
    "\n",
    "num_layers = [2,6,10]\n",
    "num_neurons = [10,20,40]"
   ]
  },
  {
   "cell_type": "code",
   "execution_count": 19,
   "id": "abb74f3e-983c-4071-8655-e4faa51bd4fd",
   "metadata": {
    "scrolled": true,
    "tags": []
   },
   "outputs": [
    {
     "name": "stdout",
     "output_type": "stream",
     "text": [
      "Number of Training Points: 250.000000\n",
      "Noise Level: 0.000000\n",
      "INFO:tensorflow:Optimization terminated with:\n",
      "  Message: CONVERGENCE: REL_REDUCTION_OF_F_<=_FACTR*EPSMCH\n",
      "  Objective function value: 0.000005\n",
      "  Number of iterations: 7351\n",
      "  Number of functions evaluations: 8037\n",
      "Error of u: 2.197207e+00\n",
      "Relative Error of u: 8.559456e-03\n",
      "Error mu: 0.18765%\n",
      "Error nu: 0.14431%\n",
      "Estimated mu: 0.99812\n",
      "Estimated nu: 1.20144\n",
      "Number of Training Points: 250.000000\n",
      "Noise Level: 0.050000\n",
      "INFO:tensorflow:Optimization terminated with:\n",
      "  Message: CONVERGENCE: REL_REDUCTION_OF_F_<=_FACTR*EPSMCH\n",
      "  Objective function value: 0.000942\n",
      "  Number of iterations: 6813\n",
      "  Number of functions evaluations: 7453\n",
      "Error of u: 9.844992e+00\n",
      "Relative Error of u: 3.835223e-02\n",
      "Error mu: 2.76623%\n",
      "Error nu: 0.98640%\n",
      "Estimated mu: 0.97234\n",
      "Estimated nu: 1.20986\n",
      "Number of Training Points: 250.000000\n",
      "Noise Level: 0.100000\n",
      "INFO:tensorflow:Optimization terminated with:\n",
      "  Message: CONVERGENCE: REL_REDUCTION_OF_F_<=_FACTR*EPSMCH\n",
      "  Objective function value: 0.002125\n",
      "  Number of iterations: 15381\n",
      "  Number of functions evaluations: 16761\n",
      "Error of u: 4.376221e+01\n",
      "Relative Error of u: 1.704804e-01\n",
      "Error mu: 13.49345%\n",
      "Error nu: 0.18852%\n",
      "Estimated mu: 1.13493\n",
      "Estimated nu: 1.20189\n",
      "Number of Training Points: 750.000000\n",
      "Noise Level: 0.000000\n",
      "INFO:tensorflow:Optimization terminated with:\n",
      "  Message: CONVERGENCE: REL_REDUCTION_OF_F_<=_FACTR*EPSMCH\n",
      "  Objective function value: 0.000013\n",
      "  Number of iterations: 12307\n",
      "  Number of functions evaluations: 13436\n",
      "Error of u: 1.814344e+00\n",
      "Relative Error of u: 7.067972e-03\n",
      "Error mu: 0.10377%\n",
      "Error nu: 0.09027%\n",
      "Estimated mu: 0.99896\n",
      "Estimated nu: 1.20090\n",
      "Number of Training Points: 750.000000\n",
      "Noise Level: 0.050000\n",
      "INFO:tensorflow:Optimization terminated with:\n",
      "  Message: CONVERGENCE: REL_REDUCTION_OF_F_<=_FACTR*EPSMCH\n",
      "  Objective function value: 0.001337\n",
      "  Number of iterations: 4780\n",
      "  Number of functions evaluations: 5247\n",
      "Error of u: 3.472861e+00\n",
      "Relative Error of u: 1.352891e-02\n",
      "Error mu: 0.58774%\n",
      "Error nu: 0.63295%\n",
      "Estimated mu: 0.99412\n",
      "Estimated nu: 1.19367\n",
      "Number of Training Points: 750.000000\n",
      "Noise Level: 0.100000\n",
      "INFO:tensorflow:Optimization terminated with:\n",
      "  Message: CONVERGENCE: REL_REDUCTION_OF_F_<=_FACTR*EPSMCH\n",
      "  Objective function value: 0.005610\n",
      "  Number of iterations: 3313\n",
      "  Number of functions evaluations: 3641\n",
      "Error of u: 6.651080e+00\n",
      "Relative Error of u: 2.591000e-02\n",
      "Error mu: 4.81565%\n",
      "Error nu: 4.21994%\n",
      "Estimated mu: 1.04816\n",
      "Estimated nu: 1.15780\n",
      "Number of Training Points: 1500.000000\n",
      "Noise Level: 0.000000\n",
      "INFO:tensorflow:Optimization terminated with:\n",
      "  Message: CONVERGENCE: REL_REDUCTION_OF_F_<=_FACTR*EPSMCH\n",
      "  Objective function value: 0.000012\n",
      "  Number of iterations: 13457\n",
      "  Number of functions evaluations: 14689\n",
      "Error of u: 1.384356e+00\n",
      "Relative Error of u: 5.392910e-03\n",
      "Error mu: 0.04003%\n",
      "Error nu: 0.04625%\n",
      "Estimated mu: 1.00040\n",
      "Estimated nu: 1.19954\n",
      "Number of Training Points: 1500.000000\n",
      "Noise Level: 0.050000\n",
      "INFO:tensorflow:Optimization terminated with:\n",
      "  Message: CONVERGENCE: REL_REDUCTION_OF_F_<=_FACTR*EPSMCH\n",
      "  Objective function value: 0.001487\n",
      "  Number of iterations: 4850\n",
      "  Number of functions evaluations: 5342\n",
      "Error of u: 3.301856e+00\n",
      "Relative Error of u: 1.286274e-02\n",
      "Error mu: 0.67396%\n",
      "Error nu: 0.24906%\n",
      "Estimated mu: 1.00674\n",
      "Estimated nu: 1.19751\n",
      "Number of Training Points: 1500.000000\n",
      "Noise Level: 0.100000\n",
      "INFO:tensorflow:Optimization terminated with:\n",
      "  Message: CONVERGENCE: REL_REDUCTION_OF_F_<=_FACTR*EPSMCH\n",
      "  Objective function value: 0.005615\n",
      "  Number of iterations: 5368\n",
      "  Number of functions evaluations: 5841\n",
      "Error of u: 4.193484e+00\n",
      "Relative Error of u: 1.633617e-02\n",
      "Error mu: 2.07066%\n",
      "Error nu: 1.73736%\n",
      "Estimated mu: 0.97929\n",
      "Estimated nu: 1.21737\n"
     ]
    }
   ],
   "source": [
    "# compute errors for the combinations and save to a table\n",
    "mu_table_N_noise = np.zeros((len(N), len(noise)))\n",
    "nu_table_N_noise = np.zeros((len(N), len(noise)))\n",
    "\n",
    "for i in range(len(N)):\n",
    "    for j in range(len(noise)):\n",
    "        print('Number of Training Points: %f' % (N[i]))\n",
    "        print('Noise Level: %f' % (noise[j]))\n",
    "        mu_table_N_noise[i,j], nu_table_N_noise[i,j] = get_parameter_errors(N[i], noise[j], num_layers[-1], num_neurons[-1], data)\n",
    "        "
   ]
  },
  {
   "cell_type": "code",
   "execution_count": 23,
   "id": "f9585295-187c-4fac-861a-fb29f7ce5298",
   "metadata": {
    "scrolled": true,
    "tags": []
   },
   "outputs": [],
   "source": [
    "np.savetxt('./tables/mu_table_N_noise.csv', mu_table_N_noise, delimiter=' & ', fmt='$%2.3f$', newline=' \\\\\\\\\\n')\n",
    "np.savetxt('./tables/nu_table_N_noise.csv', nu_table_N_noise, delimiter=' & ', fmt='$%2.3f$', newline=' \\\\\\\\\\n')\n",
    "\n",
    "rows = ['Num Training Points: ' + str(N[0])] + N[1:]\n",
    "cols = ['Noise level: ' + str(noise[0])] + noise[1:]\n",
    "\n",
    "mu_df_N_noise = pd.DataFrame(mu_table_N_noise, index = rows, columns = cols) \n",
    "nu_df_N_noise = pd.DataFrame(nu_table_N_noise, index = rows, columns = cols) \n"
   ]
  },
  {
   "cell_type": "code",
   "execution_count": 25,
   "id": "e8326f16-7d8d-48aa-9d04-cf73cf572ce0",
   "metadata": {
    "scrolled": true,
    "tags": []
   },
   "outputs": [
    {
     "name": "stdout",
     "output_type": "stream",
     "text": [
      "Number of Layers: 2.000000\n",
      "Number of Neurons: 10.000000\n",
      "INFO:tensorflow:Optimization terminated with:\n",
      "  Message: CONVERGENCE: REL_REDUCTION_OF_F_<=_FACTR*EPSMCH\n",
      "  Objective function value: 0.001656\n",
      "  Number of iterations: 4647\n",
      "  Number of functions evaluations: 4964\n",
      "Error of u: 7.303125e+00\n",
      "Relative Error of u: 2.845011e-02\n",
      "Error mu: 5.14641%\n",
      "Error nu: 2.14437%\n",
      "Estimated mu: 0.94854\n",
      "Estimated nu: 1.22144\n",
      "Number of Layers: 2.000000\n",
      "Number of Neurons: 20.000000\n",
      "INFO:tensorflow:Optimization terminated with:\n",
      "  Message: CONVERGENCE: REL_REDUCTION_OF_F_<=_FACTR*EPSMCH\n",
      "  Objective function value: 0.000234\n",
      "  Number of iterations: 9319\n",
      "  Number of functions evaluations: 10027\n",
      "Error of u: 3.338379e+00\n",
      "Relative Error of u: 1.300502e-02\n",
      "Error mu: 0.89294%\n",
      "Error nu: 0.27655%\n",
      "Estimated mu: 0.99107\n",
      "Estimated nu: 1.20277\n",
      "Number of Layers: 2.000000\n",
      "Number of Neurons: 40.000000\n",
      "INFO:tensorflow:Optimization terminated with:\n",
      "  Message: CONVERGENCE: REL_REDUCTION_OF_F_<=_FACTR*EPSMCH\n",
      "  Objective function value: 0.000078\n",
      "  Number of iterations: 6784\n",
      "  Number of functions evaluations: 7312\n",
      "Error of u: 3.043343e+00\n",
      "Relative Error of u: 1.185567e-02\n",
      "Error mu: 0.16571%\n",
      "Error nu: 0.16531%\n",
      "Estimated mu: 0.99834\n",
      "Estimated nu: 1.19835\n",
      "Number of Layers: 6.000000\n",
      "Number of Neurons: 10.000000\n",
      "INFO:tensorflow:Optimization terminated with:\n",
      "  Message: CONVERGENCE: REL_REDUCTION_OF_F_<=_FACTR*EPSMCH\n",
      "  Objective function value: 0.000076\n",
      "  Number of iterations: 7425\n",
      "  Number of functions evaluations: 8041\n",
      "Error of u: 2.481872e+00\n",
      "Relative Error of u: 9.668402e-03\n",
      "Error mu: 0.28833%\n",
      "Error nu: 0.20033%\n",
      "Estimated mu: 0.99712\n",
      "Estimated nu: 1.20200\n",
      "Number of Layers: 6.000000\n",
      "Number of Neurons: 20.000000\n",
      "INFO:tensorflow:Optimization terminated with:\n",
      "  Message: CONVERGENCE: REL_REDUCTION_OF_F_<=_FACTR*EPSMCH\n",
      "  Objective function value: 0.000066\n",
      "  Number of iterations: 8131\n",
      "  Number of functions evaluations: 8815\n",
      "Error of u: 2.425961e+00\n",
      "Relative Error of u: 9.450593e-03\n",
      "Error mu: 0.00656%\n",
      "Error nu: 0.06050%\n",
      "Estimated mu: 1.00007\n",
      "Estimated nu: 1.19940\n",
      "Number of Layers: 6.000000\n",
      "Number of Neurons: 40.000000\n",
      "INFO:tensorflow:Optimization terminated with:\n",
      "  Message: CONVERGENCE: REL_REDUCTION_OF_F_<=_FACTR*EPSMCH\n",
      "  Objective function value: 0.000074\n",
      "  Number of iterations: 5195\n",
      "  Number of functions evaluations: 5712\n",
      "Error of u: 2.762323e+00\n",
      "Relative Error of u: 1.076093e-02\n",
      "Error mu: 0.31868%\n",
      "Error nu: 0.10699%\n",
      "Estimated mu: 0.99681\n",
      "Estimated nu: 1.20107\n",
      "Number of Layers: 10.000000\n",
      "Number of Neurons: 10.000000\n",
      "INFO:tensorflow:Optimization terminated with:\n",
      "  Message: CONVERGENCE: REL_REDUCTION_OF_F_<=_FACTR*EPSMCH\n",
      "  Objective function value: 0.000206\n",
      "  Number of iterations: 5929\n",
      "  Number of functions evaluations: 6443\n",
      "Error of u: 3.917626e+00\n",
      "Relative Error of u: 1.526153e-02\n",
      "Error mu: 0.12848%\n",
      "Error nu: 0.06577%\n",
      "Estimated mu: 1.00128\n",
      "Estimated nu: 1.19934\n",
      "Number of Layers: 10.000000\n",
      "Number of Neurons: 20.000000\n",
      "INFO:tensorflow:Optimization terminated with:\n",
      "  Message: CONVERGENCE: REL_REDUCTION_OF_F_<=_FACTR*EPSMCH\n",
      "  Objective function value: 0.000022\n",
      "  Number of iterations: 7294\n",
      "  Number of functions evaluations: 7930\n",
      "Error of u: 2.364669e+00\n",
      "Relative Error of u: 9.211823e-03\n",
      "Error mu: 0.25452%\n",
      "Error nu: 0.13955%\n",
      "Estimated mu: 0.99745\n",
      "Estimated nu: 1.20140\n",
      "Number of Layers: 10.000000\n",
      "Number of Neurons: 40.000000\n",
      "INFO:tensorflow:Optimization terminated with:\n",
      "  Message: CONVERGENCE: REL_REDUCTION_OF_F_<=_FACTR*EPSMCH\n",
      "  Objective function value: 0.000014\n",
      "  Number of iterations: 7043\n",
      "  Number of functions evaluations: 7659\n",
      "Error of u: 1.494422e+00\n",
      "Relative Error of u: 5.821681e-03\n",
      "Error mu: 0.00664%\n",
      "Error nu: 0.02083%\n",
      "Estimated mu: 1.00007\n",
      "Estimated nu: 1.19979\n"
     ]
    }
   ],
   "source": [
    "# compute errors for the combinations and save to a table\n",
    "mu_table_layers_neurons = np.zeros((len(num_layers), len(num_neurons)))\n",
    "nu_table_layers_neurons = np.zeros((len(num_layers), len(num_neurons)))\n",
    "\n",
    "for i in range(len(num_layers)): \n",
    "    for j in range(len(num_neurons)):\n",
    "        print('Number of Layers: %f' % (num_layers[i]))\n",
    "        print('Number of Neurons: %f' % (num_neurons[j]))\n",
    "        mu_table_layers_neurons[i,j], nu_table_layers_neurons[i,j] = get_parameter_errors(500, noise[0], num_layers[i], num_neurons[j], data)"
   ]
  },
  {
   "cell_type": "code",
   "execution_count": 33,
   "id": "5fb86ba9-3682-4dbb-aa79-f0401fb4c7e1",
   "metadata": {
    "tags": []
   },
   "outputs": [],
   "source": [
    "np.savetxt('./tables/mu_table_layers_neurons.csv', mu_table_layers_neurons, delimiter=' & ', fmt='$%2.3f$', newline=' \\\\\\\\\\n')\n",
    "np.savetxt('./tables/nu_table_layers_neurons.csv', nu_table_layers_neurons, delimiter=' & ', fmt='$%2.3f$', newline=' \\\\\\\\\\n')\n",
    "\n",
    "rows = ['Num Layers: ' + str(num_layers[0])] + num_layers[1:]\n",
    "cols = ['Num Nodes: ' + str(num_neurons[0])] + num_neurons[1:]\n",
    "\n",
    "mu_df_layers_neurons = pd.DataFrame(mu_table_layers_neurons, index = rows, columns = cols)\n",
    "nu_df_layers_neurons = pd.DataFrame(nu_table_layers_neurons, index = rows, columns = cols)"
   ]
  },
  {
   "cell_type": "code",
   "execution_count": null,
   "id": "72676d20-2920-49b7-8cf8-0bb77b9d3dff",
   "metadata": {
    "scrolled": true,
    "tags": []
   },
   "outputs": [],
   "source": [
    "# compute errors for the combinations and save to a table\n",
    "mu_table_noise_layers = np.zeros((len(noise), len(num_layers)))\n",
    "nu_table_noise_layers = np.zeros((len(noise), len(num_layers)))\n",
    "\n",
    "for i in range(len(noise)):\n",
    "    for j in range(len(num_layers)):\n",
    "        print('Noise Level: %f' % (noise[i]))\n",
    "        print('Number of Layers: %f' % (num_layers[j]))\n",
    "        mu_table_noise_layers[i,j], nu_table_noise_layers[i,j] = get_parameter_errors(500, noise[i], num_layers[j], 25, data)\n",
    "    "
   ]
  },
  {
   "cell_type": "code",
   "execution_count": 31,
   "id": "3408702b-b21d-49f7-a6ca-9d593ba2f0ac",
   "metadata": {
    "scrolled": true,
    "tags": []
   },
   "outputs": [],
   "source": [
    "np.savetxt('./tables/mu_table_noise_layers.csv', mu_table_noise_layers, delimiter=' & ', fmt='$%2.3f$', newline=' \\\\\\\\\\n')\n",
    "np.savetxt('./tables/nu_table_noise_layers.csv', nu_table_noise_layers, delimiter=' & ', fmt='$%2.3f$', newline=' \\\\\\\\\\n')\n",
    "\n",
    "rows = ['Noise level: ' + str(noise[0])] + noise[1:]\n",
    "cols = ['Num Layers: ' + str(num_layers[0])] + num_layers[1:]\n",
    "\n",
    "mu_df_noise_layers = pd.DataFrame(mu_table_noise_layers, index = rows, columns = cols)\n",
    "nu_df_noise_layers = pd.DataFrame(nu_table_noise_layers, index = rows, columns = cols)"
   ]
  },
  {
   "cell_type": "markdown",
   "id": "c8ae1a8e-3149-4d65-93bd-6cb011261df3",
   "metadata": {},
   "source": [
    "### Results \n",
    "Below we display the estimation errors of the parameters $\\mu$ and $\\nu$. \n",
    "\n",
    "1. When changing the number of training points and noise level, we fix the number of layers to be $10$ with $40$ neurons. \n",
    "2. When changing the number of layers and nodes in each layer, we set the number of training points to be $500$ and the noise level to be $0.0$. \n",
    "3. When changing the value of the noise level and the number of layers, we set the number of training points to be $500$ and we have $25$ nodes per layer. "
   ]
  },
  {
   "cell_type": "code",
   "execution_count": 34,
   "id": "f980cf6d-f7c1-49c6-bb71-87d3f7308c79",
   "metadata": {},
   "outputs": [
    {
     "name": "stdout",
     "output_type": "stream",
     "text": [
      "Percent Error for mu\n"
     ]
    },
    {
     "data": {
      "text/html": [
       "<div>\n",
       "<style scoped>\n",
       "    .dataframe tbody tr th:only-of-type {\n",
       "        vertical-align: middle;\n",
       "    }\n",
       "\n",
       "    .dataframe tbody tr th {\n",
       "        vertical-align: top;\n",
       "    }\n",
       "\n",
       "    .dataframe thead th {\n",
       "        text-align: right;\n",
       "    }\n",
       "</style>\n",
       "<table border=\"1\" class=\"dataframe\">\n",
       "  <thead>\n",
       "    <tr style=\"text-align: right;\">\n",
       "      <th></th>\n",
       "      <th>Noise level: 0.0</th>\n",
       "      <th>0.05</th>\n",
       "      <th>0.1</th>\n",
       "    </tr>\n",
       "  </thead>\n",
       "  <tbody>\n",
       "    <tr>\n",
       "      <th>Num Training Points: 250</th>\n",
       "      <td>0.187653</td>\n",
       "      <td>2.766228</td>\n",
       "      <td>13.493454</td>\n",
       "    </tr>\n",
       "    <tr>\n",
       "      <th>750</th>\n",
       "      <td>0.103772</td>\n",
       "      <td>0.587744</td>\n",
       "      <td>4.815650</td>\n",
       "    </tr>\n",
       "    <tr>\n",
       "      <th>1500</th>\n",
       "      <td>0.040030</td>\n",
       "      <td>0.673962</td>\n",
       "      <td>2.070659</td>\n",
       "    </tr>\n",
       "  </tbody>\n",
       "</table>\n",
       "</div>"
      ],
      "text/plain": [
       "                          Noise level: 0.0      0.05        0.1\n",
       "Num Training Points: 250          0.187653  2.766228  13.493454\n",
       "750                               0.103772  0.587744   4.815650\n",
       "1500                              0.040030  0.673962   2.070659"
      ]
     },
     "metadata": {},
     "output_type": "display_data"
    },
    {
     "data": {
      "text/html": [
       "<div>\n",
       "<style scoped>\n",
       "    .dataframe tbody tr th:only-of-type {\n",
       "        vertical-align: middle;\n",
       "    }\n",
       "\n",
       "    .dataframe tbody tr th {\n",
       "        vertical-align: top;\n",
       "    }\n",
       "\n",
       "    .dataframe thead th {\n",
       "        text-align: right;\n",
       "    }\n",
       "</style>\n",
       "<table border=\"1\" class=\"dataframe\">\n",
       "  <thead>\n",
       "    <tr style=\"text-align: right;\">\n",
       "      <th></th>\n",
       "      <th>Num Nodes: 10</th>\n",
       "      <th>20</th>\n",
       "      <th>40</th>\n",
       "    </tr>\n",
       "  </thead>\n",
       "  <tbody>\n",
       "    <tr>\n",
       "      <th>Num Layers: 2</th>\n",
       "      <td>5.146408</td>\n",
       "      <td>0.892937</td>\n",
       "      <td>0.165707</td>\n",
       "    </tr>\n",
       "    <tr>\n",
       "      <th>6</th>\n",
       "      <td>0.288326</td>\n",
       "      <td>0.006557</td>\n",
       "      <td>0.318682</td>\n",
       "    </tr>\n",
       "    <tr>\n",
       "      <th>10</th>\n",
       "      <td>0.128484</td>\n",
       "      <td>0.254524</td>\n",
       "      <td>0.006640</td>\n",
       "    </tr>\n",
       "  </tbody>\n",
       "</table>\n",
       "</div>"
      ],
      "text/plain": [
       "               Num Nodes: 10        20        40\n",
       "Num Layers: 2       5.146408  0.892937  0.165707\n",
       "6                   0.288326  0.006557  0.318682\n",
       "10                  0.128484  0.254524  0.006640"
      ]
     },
     "metadata": {},
     "output_type": "display_data"
    },
    {
     "data": {
      "text/html": [
       "<div>\n",
       "<style scoped>\n",
       "    .dataframe tbody tr th:only-of-type {\n",
       "        vertical-align: middle;\n",
       "    }\n",
       "\n",
       "    .dataframe tbody tr th {\n",
       "        vertical-align: top;\n",
       "    }\n",
       "\n",
       "    .dataframe thead th {\n",
       "        text-align: right;\n",
       "    }\n",
       "</style>\n",
       "<table border=\"1\" class=\"dataframe\">\n",
       "  <thead>\n",
       "    <tr style=\"text-align: right;\">\n",
       "      <th></th>\n",
       "      <th>Num Layers: 2</th>\n",
       "      <th>6</th>\n",
       "      <th>10</th>\n",
       "    </tr>\n",
       "  </thead>\n",
       "  <tbody>\n",
       "    <tr>\n",
       "      <th>Noise level: 0.0</th>\n",
       "      <td>0.284719</td>\n",
       "      <td>0.191849</td>\n",
       "      <td>0.054109</td>\n",
       "    </tr>\n",
       "    <tr>\n",
       "      <th>0.05</th>\n",
       "      <td>2.272820</td>\n",
       "      <td>1.972300</td>\n",
       "      <td>1.305640</td>\n",
       "    </tr>\n",
       "    <tr>\n",
       "      <th>0.1</th>\n",
       "      <td>3.816080</td>\n",
       "      <td>0.300938</td>\n",
       "      <td>2.669907</td>\n",
       "    </tr>\n",
       "  </tbody>\n",
       "</table>\n",
       "</div>"
      ],
      "text/plain": [
       "                  Num Layers: 2         6        10\n",
       "Noise level: 0.0       0.284719  0.191849  0.054109\n",
       "0.05                   2.272820  1.972300  1.305640\n",
       "0.1                    3.816080  0.300938  2.669907"
      ]
     },
     "metadata": {},
     "output_type": "display_data"
    },
    {
     "name": "stdout",
     "output_type": "stream",
     "text": [
      "\n",
      "Percent error for nu\n"
     ]
    },
    {
     "data": {
      "text/html": [
       "<div>\n",
       "<style scoped>\n",
       "    .dataframe tbody tr th:only-of-type {\n",
       "        vertical-align: middle;\n",
       "    }\n",
       "\n",
       "    .dataframe tbody tr th {\n",
       "        vertical-align: top;\n",
       "    }\n",
       "\n",
       "    .dataframe thead th {\n",
       "        text-align: right;\n",
       "    }\n",
       "</style>\n",
       "<table border=\"1\" class=\"dataframe\">\n",
       "  <thead>\n",
       "    <tr style=\"text-align: right;\">\n",
       "      <th></th>\n",
       "      <th>Num Nodes: 10</th>\n",
       "      <th>20</th>\n",
       "      <th>40</th>\n",
       "    </tr>\n",
       "  </thead>\n",
       "  <tbody>\n",
       "    <tr>\n",
       "      <th>Num Layers: 2</th>\n",
       "      <td>2.144372</td>\n",
       "      <td>0.276554</td>\n",
       "      <td>0.165308</td>\n",
       "    </tr>\n",
       "    <tr>\n",
       "      <th>6</th>\n",
       "      <td>0.200331</td>\n",
       "      <td>0.060499</td>\n",
       "      <td>0.106990</td>\n",
       "    </tr>\n",
       "    <tr>\n",
       "      <th>10</th>\n",
       "      <td>0.065768</td>\n",
       "      <td>0.139546</td>\n",
       "      <td>0.020826</td>\n",
       "    </tr>\n",
       "  </tbody>\n",
       "</table>\n",
       "</div>"
      ],
      "text/plain": [
       "               Num Nodes: 10        20        40\n",
       "Num Layers: 2       2.144372  0.276554  0.165308\n",
       "6                   0.200331  0.060499  0.106990\n",
       "10                  0.065768  0.139546  0.020826"
      ]
     },
     "metadata": {},
     "output_type": "display_data"
    },
    {
     "data": {
      "text/html": [
       "<div>\n",
       "<style scoped>\n",
       "    .dataframe tbody tr th:only-of-type {\n",
       "        vertical-align: middle;\n",
       "    }\n",
       "\n",
       "    .dataframe tbody tr th {\n",
       "        vertical-align: top;\n",
       "    }\n",
       "\n",
       "    .dataframe thead th {\n",
       "        text-align: right;\n",
       "    }\n",
       "</style>\n",
       "<table border=\"1\" class=\"dataframe\">\n",
       "  <thead>\n",
       "    <tr style=\"text-align: right;\">\n",
       "      <th></th>\n",
       "      <th>Noise level: 0.0</th>\n",
       "      <th>0.05</th>\n",
       "      <th>0.1</th>\n",
       "    </tr>\n",
       "  </thead>\n",
       "  <tbody>\n",
       "    <tr>\n",
       "      <th>Num Training Points: 250</th>\n",
       "      <td>0.144315</td>\n",
       "      <td>0.986397</td>\n",
       "      <td>0.188518</td>\n",
       "    </tr>\n",
       "    <tr>\n",
       "      <th>750</th>\n",
       "      <td>0.090265</td>\n",
       "      <td>0.632954</td>\n",
       "      <td>4.219937</td>\n",
       "    </tr>\n",
       "    <tr>\n",
       "      <th>1500</th>\n",
       "      <td>0.046253</td>\n",
       "      <td>0.249064</td>\n",
       "      <td>1.737356</td>\n",
       "    </tr>\n",
       "  </tbody>\n",
       "</table>\n",
       "</div>"
      ],
      "text/plain": [
       "                          Noise level: 0.0      0.05       0.1\n",
       "Num Training Points: 250          0.144315  0.986397  0.188518\n",
       "750                               0.090265  0.632954  4.219937\n",
       "1500                              0.046253  0.249064  1.737356"
      ]
     },
     "metadata": {},
     "output_type": "display_data"
    },
    {
     "data": {
      "text/html": [
       "<div>\n",
       "<style scoped>\n",
       "    .dataframe tbody tr th:only-of-type {\n",
       "        vertical-align: middle;\n",
       "    }\n",
       "\n",
       "    .dataframe tbody tr th {\n",
       "        vertical-align: top;\n",
       "    }\n",
       "\n",
       "    .dataframe thead th {\n",
       "        text-align: right;\n",
       "    }\n",
       "</style>\n",
       "<table border=\"1\" class=\"dataframe\">\n",
       "  <thead>\n",
       "    <tr style=\"text-align: right;\">\n",
       "      <th></th>\n",
       "      <th>Num Layers: 2</th>\n",
       "      <th>6</th>\n",
       "      <th>10</th>\n",
       "    </tr>\n",
       "  </thead>\n",
       "  <tbody>\n",
       "    <tr>\n",
       "      <th>Noise level: 0.0</th>\n",
       "      <td>0.008118</td>\n",
       "      <td>0.038064</td>\n",
       "      <td>0.083804</td>\n",
       "    </tr>\n",
       "    <tr>\n",
       "      <th>0.05</th>\n",
       "      <td>1.371229</td>\n",
       "      <td>1.065397</td>\n",
       "      <td>0.411558</td>\n",
       "    </tr>\n",
       "    <tr>\n",
       "      <th>0.1</th>\n",
       "      <td>1.603878</td>\n",
       "      <td>0.991976</td>\n",
       "      <td>1.666462</td>\n",
       "    </tr>\n",
       "  </tbody>\n",
       "</table>\n",
       "</div>"
      ],
      "text/plain": [
       "                  Num Layers: 2         6        10\n",
       "Noise level: 0.0       0.008118  0.038064  0.083804\n",
       "0.05                   1.371229  1.065397  0.411558\n",
       "0.1                    1.603878  0.991976  1.666462"
      ]
     },
     "metadata": {},
     "output_type": "display_data"
    }
   ],
   "source": [
    "print('Percent Error for mu')\n",
    "display(mu_df_N_noise)\n",
    "display(mu_df_layers_neurons)\n",
    "display(mu_df_noise_layers)\n",
    "print()\n",
    "print('Percent error for nu')\n",
    "display(nu_df_layers_neurons)\n",
    "display(nu_df_N_noise)\n",
    "display(nu_df_noise_layers)"
   ]
  },
  {
   "cell_type": "markdown",
   "id": "856b5c79",
   "metadata": {},
   "source": [
    "## Learning the PDE and Extrapolating\n",
    "The next learning algorithm works to learn the underlying dynamics of the pde; meaning if \n",
    "$ u_t = \\mathcal N(u),$\n",
    "this neural network learns $\\mathcal N(u)$. This learned function $\\mathcal N$ is a blackbox function, meaning we do not have a closed form expression for it. \n",
    "\n",
    "Then, the solution to the PDE $u_t = \\mathcal N(u)$, where again $\\mathcal N(u)$ is the learned function, is predicted via the PINNs algorithm in addition to the initial and boundary data. We can then compare this output to the true data. "
   ]
  },
  {
   "cell_type": "markdown",
   "id": "a6bf1079",
   "metadata": {},
   "source": [
    "#### Data Preprocessing\n",
    "We will use the same data as in the previous two sections. Later, we will use one set of data to identify the PDE and another to find the solution. For this reason, we make new variables for the set of data used to identify the PDE and the set of data used to find the solution (even though in this context they are the same data). "
   ]
  },
  {
   "cell_type": "code",
   "execution_count": 35,
   "id": "f8117c81",
   "metadata": {
    "tags": []
   },
   "outputs": [],
   "source": [
    "# first load the data used to identify N\n",
    "data_id=scipy.io.loadmat(\"data/exp1d_HD.mat\")\n",
    "\n",
    "# extract the data\n",
    "t_id = data_id['tspan'].flatten()[:,None]\n",
    "x_id = data_id['spatial_vec'].flatten()[:,None]\n",
    "u_id = data_id['data']\n",
    "\n",
    "# get lower and upper bounds\n",
    "lb_id=np.array([min(t_id)[0], min(x_id)[0]])\n",
    "ub_id=np.array([max(t_id)[0], max(x_id)[0]])\n",
    "\n",
    "# Now we create a coordinate grid of (t,x)\n",
    "T_id, X_id = np.meshgrid(t_id,x_id)"
   ]
  },
  {
   "cell_type": "markdown",
   "id": "ae134a63",
   "metadata": {},
   "source": [
    "We want to extrapolate the last third of the data, so now we create arrays with just the first 2/3 of the temporal data and format them appropriately. "
   ]
  },
  {
   "cell_type": "code",
   "execution_count": 36,
   "id": "2160cb9d",
   "metadata": {},
   "outputs": [],
   "source": [
    "# create and format data with the last third missing\n",
    "keep=2/3\n",
    "\n",
    "keep_index=int(keep*t_id.shape[0])\n",
    "T_id=T_id[:,0:keep_index]\n",
    "X_id=X_id[:,0:keep_index]\n",
    "Sol_id=u_id[:,0:keep_index]\n",
    "\n",
    "t_id_col=T_id.flatten()[:,None]\n",
    "x_id_col=X_id.flatten()[:,None]\n",
    "dom_id_col=np.hstack((t_id_col, x_id_col))\n",
    "u_id_col=Sol_id.flatten()[:,None]"
   ]
  },
  {
   "cell_type": "markdown",
   "id": "506fb694",
   "metadata": {},
   "source": [
    "Now we load and format the data for solving the PDE. "
   ]
  },
  {
   "cell_type": "code",
   "execution_count": 37,
   "id": "057bc93f",
   "metadata": {},
   "outputs": [],
   "source": [
    "# extract the data used to find u from u_t = N\n",
    "data_sol=scipy.io.loadmat(\"data/exp1d_HD.mat\")\n",
    "t_sol = data_sol['tspan'].flatten()[:,None]\n",
    "x_sol = data_sol['spatial_vec'].flatten()[:,None]\n",
    "u_sol = np.real(data_sol['data'])\n",
    "\n",
    "# get lower and upper bounds\n",
    "lb_sol=np.array([min(t_sol)[0], min(x_sol)[0]])\n",
    "ub_sol=np.array([max(t_sol)[0], max(x_sol)[0]])\n",
    "\n",
    "T_sol, X_sol = np.meshgrid(t_sol,x_sol)\n",
    "\n",
    "# format the data\n",
    "t_sol_col=T_sol.flatten()[:,None]\n",
    "x_sol_col=X_sol.flatten()[:,None]\n",
    "dom_sol_col=np.hstack((t_sol_col, x_sol_col))\n",
    "u_sol_col=u_sol.flatten()[:,None]"
   ]
  },
  {
   "cell_type": "markdown",
   "id": "8a2a969a",
   "metadata": {},
   "source": [
    "Now we choose the number of training data to identify $\\mathcal N$ and take a random number of these points from the identification data. "
   ]
  },
  {
   "cell_type": "code",
   "execution_count": 38,
   "id": "f127d22d",
   "metadata": {},
   "outputs": [],
   "source": [
    "# choose number of training points on which to identify N\n",
    "N_train=10000\n",
    "max_index=t_id_col.shape[0]\n",
    "train_index=np.random.choice(max_index,N_train,replace=False)\n",
    "t_train = t_id_col[train_index,:]\n",
    "x_train = x_id_col[train_index,:]\n",
    "u_train = u_id_col[train_index,:]"
   ]
  },
  {
   "cell_type": "markdown",
   "id": "c8e7fb1a",
   "metadata": {
    "tags": []
   },
   "source": [
    "Now we make the data a little noisy (if we want). In this case, the results did not seem to be good enough without noise to justify adding noise."
   ]
  },
  {
   "cell_type": "code",
   "execution_count": 39,
   "id": "c9ad0bd7",
   "metadata": {},
   "outputs": [],
   "source": [
    "noise = 0.00\n",
    "u_train = u_train + noise*np.std(u_train)*np.random.randn(u_train.shape[0], u_train.shape[1])"
   ]
  },
  {
   "cell_type": "markdown",
   "id": "17295614",
   "metadata": {},
   "source": [
    "#### Construct Training Data\n",
    "Now we choose the training data to construct the solution $u(x,t)$. We will choose a number of points from the initial data at $t = 0$, a number of points containing other boundary data and a number of points from the interior of the domain that function as collocation points for the network $f$ and serve to enforce the structure of the learned PDE."
   ]
  },
  {
   "cell_type": "code",
   "execution_count": 40,
   "id": "3914d284",
   "metadata": {},
   "outputs": [],
   "source": [
    "num_init = u_sol.shape[0]\n",
    "num_bound = u_sol.shape[1]\n",
    "num_f = 20000\n",
    "\n",
    "# extract the training data\n",
    "x_indices=np.random.choice(x_sol.shape[0], num_init, replace=False)\n",
    "x0_train=x_sol[x_indices,:]\n",
    "u0_train=u_sol[x_indices,0:1]\n",
    "\n",
    "t_indices=np.random.choice(t_sol.shape[0],num_bound, replace=False)\n",
    "tb_train=t_sol[t_indices,:]\n",
    "\n",
    "X_f_train=lb_sol+(ub_sol-lb_sol)*lhs(2,N_train)"
   ]
  },
  {
   "cell_type": "markdown",
   "id": "60d68514",
   "metadata": {},
   "source": [
    "#### Initialize Model\n",
    "Now we decide how many layers we want and initialize our model. In this case, we choose $4$ hidden layers with $50$ nodes in each layer for the solution $u(x,t)$, the PDE $\\mathcal N$ and the solver. "
   ]
  },
  {
   "cell_type": "code",
   "execution_count": 61,
   "id": "9b633f2f",
   "metadata": {},
   "outputs": [],
   "source": [
    "# first u layer should be the number of inputs (x,t)\n",
    "u_layers = [2, 20, 20, 20, 20, 20, 20, 20, 20,  1]\n",
    "# first pde layer should be the number of derivatives needed (max spatial order + max temporal order). We choose 5 because we know\n",
    "# our data was generated from SH; a fourth order PDE\n",
    "pde_layers = [5, 20, 20, 20, 20, 20, 20, 20,20, 1]\n",
    "# for solving -- first layer should be number of inputs, last layer is number of outputs\n",
    "layers = [2, 20, 20, 20, 20, 20, 20, 20,20,   1]\n",
    "    \n",
    "# Inialize the model\n",
    "model = HPNN.DeepHPM(t_train, x_train, u_train,\n",
    "                x0_train, u0_train, tb_train, X_f_train,\n",
    "                u_layers, pde_layers,\n",
    "                layers,\n",
    "                lb_id, ub_id,\n",
    "                lb_sol, ub_sol)"
   ]
  },
  {
   "cell_type": "markdown",
   "id": "32e1f7d7",
   "metadata": {},
   "source": [
    "#### Train and Predict\n",
    "Now we train the identifier and obtain its prediction on the training data. "
   ]
  },
  {
   "cell_type": "code",
   "execution_count": 62,
   "id": "bf2d83b1",
   "metadata": {},
   "outputs": [
    {
     "name": "stdout",
     "output_type": "stream",
     "text": [
      "INFO:tensorflow:Optimization terminated with:\n",
      "  Message: CONVERGENCE: REL_REDUCTION_OF_F_<=_FACTR*EPSMCH\n",
      "  Objective function value: 0.012342\n",
      "  Number of iterations: 18271\n",
      "  Number of functions evaluations: 19466\n",
      "INFO:tensorflow:Optimization terminated with:\n",
      "  Message: STOP: TOTAL NO. of f AND g EVALUATIONS EXCEEDS LIMIT\n",
      "  Objective function value: 0.023237\n",
      "  Number of iterations: 46260\n",
      "  Number of functions evaluations: 50002\n"
     ]
    }
   ],
   "source": [
    "# train the models to get u_t = N\n",
    "model.idn_u_train(N_iter=0)\n",
    "model.idn_f_train(N_iter=0)"
   ]
  },
  {
   "cell_type": "markdown",
   "id": "97129ee2",
   "metadata": {},
   "source": [
    "Now we train the solver. "
   ]
  },
  {
   "cell_type": "code",
   "execution_count": 63,
   "id": "dd9246e0",
   "metadata": {},
   "outputs": [
    {
     "name": "stdout",
     "output_type": "stream",
     "text": [
      "INFO:tensorflow:Optimization terminated with:\n",
      "  Message: CONVERGENCE: REL_REDUCTION_OF_F_<=_FACTR*EPSMCH\n",
      "  Objective function value: 68.005455\n",
      "  Number of iterations: 226\n",
      "  Number of functions evaluations: 274\n"
     ]
    }
   ],
   "source": [
    "# train the model to get u from u_t = N\n",
    "model.sol_train(N_iter=0)\n",
    "\n",
    "# pred_sol1 correspond to the predictions of u on the training data used to train the solver\n",
    "# pred_sol2 correspond to the predictions of u on the training data used to identify; i.e. find N(u)\n",
    "\n",
    "u_pred_sol1, f_pred_sol1 = model.sol_predict(t_sol_col, x_sol_col)\n",
    "u_pred_sol2, f_pred_sol2 = model.sol_predict(t_id_col, x_id_col)"
   ]
  },
  {
   "cell_type": "code",
   "execution_count": 64,
   "id": "5fd44d2c",
   "metadata": {},
   "outputs": [
    {
     "name": "stdout",
     "output_type": "stream",
     "text": [
      "Relative Error u: 1.125930e+00\n",
      "Error u: 1.955756e+02\n",
      "Error u (idn): 1.101778e+00\n"
     ]
    }
   ],
   "source": [
    "# print errors\n",
    "error_u = np.linalg.norm(u_sol_col-u_pred_sol1,2)\n",
    "error_u_id = np.linalg.norm(u_id_col-u_pred_sol2,2)/np.linalg.norm(u_id_col,2)\n",
    "print('Relative Error u: %e' % (error_u/np.linalg.norm(u_sol_col,2)))\n",
    "print('Error u: %e' % (error_u))\n",
    "print('Error u (idn): %e' % (error_u_id))\n",
    "\n",
    "U_pred = griddata(dom_sol_col, u_pred_sol1.flatten(), (T_sol, X_sol), method='cubic')"
   ]
  },
  {
   "cell_type": "markdown",
   "id": "2897a631",
   "metadata": {},
   "source": [
    "Now we can plot the results. "
   ]
  },
  {
   "cell_type": "code",
   "execution_count": 65,
   "id": "b09cc8b7",
   "metadata": {},
   "outputs": [
    {
     "data": {
      "image/png": "[encoded data removed]",
      "text/plain": [
       "<Figure size 432x288 with 2 Axes>"
      ]
     },
     "metadata": {
      "needs_background": "light"
     },
     "output_type": "display_data"
    }
   ],
   "source": [
    "# We plot the true dynamics\n",
    "\n",
    "fig, ax = plt.subplots()\n",
    "\n",
    "h = ax.imshow(u_sol, interpolation='nearest', cmap='Spectral', \n",
    "              extent=[lb_sol[0], ub_sol[0], lb_sol[1], ub_sol[1]],\n",
    "              origin='lower', aspect='auto')\n",
    "divider = make_axes_locatable(ax)\n",
    "cax = divider.append_axes(\"right\", size=\"5%\", pad=0.05)\n",
    "fig.colorbar(h, cax=cax)\n",
    "\n",
    "line = np.linspace(lb_sol[1], ub_sol[1], 2)[:,None]\n",
    "ax.plot(t_id[keep_index]*np.ones((2,1)), line, 'k--', linewidth = 1, label=\"Cutoff for training data\")\n",
    "\n",
    "ax.set_xlabel('$t$')\n",
    "ax.set_ylabel('$x$')\n",
    "ax.set_title('Exact Dynamics', fontsize = 10)\n",
    "ax.legend(loc='upper center', bbox_to_anchor=(0.5, -0.15), ncol=5, frameon=False)\n",
    "\n",
    "fig.savefig('pdfHD_rolls_1_1_discover_exact.pdf', bbox_inches='tight')\n",
    "fig.show()"
   ]
  },
  {
   "cell_type": "code",
   "execution_count": 66,
   "id": "62c0de1e",
   "metadata": {},
   "outputs": [
    {
     "data": {
      "image/png": "[encoded data removed]",
      "text/plain": [
       "<Figure size 432x288 with 2 Axes>"
      ]
     },
     "metadata": {
      "needs_background": "light"
     },
     "output_type": "display_data"
    }
   ],
   "source": [
    "# We plot the dynamics that were learned using PINN from the function N generated by HPM \n",
    "fig,ax = plt.subplots()\n",
    "h = ax.imshow(U_pred, interpolation='nearest', cmap='Spectral', \n",
    "              extent=[lb_sol[0], ub_sol[0], lb_sol[1], ub_sol[1]], \n",
    "              origin='lower', aspect='auto')\n",
    "divider = make_axes_locatable(ax)\n",
    "cax = divider.append_axes(\"right\", size=\"5%\", pad=0.05)\n",
    "fig.colorbar(h, cax=cax)\n",
    "\n",
    "line = np.linspace(lb_sol[1], ub_sol[1], 2)[:,None]\n",
    "ax.plot(t_id[keep_index]*np.ones((2,1)), line, 'k--', linewidth = 1, label=\"Cutoff for training data\")\n",
    "\n",
    "ax.set_xlabel('$t$')\n",
    "ax.set_ylabel('$x$')\n",
    "ax.set_title('Discovered Dynamics', fontsize = 10)\n",
    "ax.legend(loc='upper center', bbox_to_anchor=(0.5, -0.15), ncol=5, frameon=False)\n",
    "\n",
    "\n",
    "fig.savefig('pdfHD_rolls_1_1_discover_pred.pdf', bbox_inches='tight')\n",
    "fig.show()"
   ]
  },
  {
   "cell_type": "markdown",
   "id": "c11583b2",
   "metadata": {},
   "source": [
    "### Learning Dynamics on a Different Data Set\n",
    "Now we see if the neural network can model a solution with a different initial condition. Previously, we were using the same data set to train the model to identify and solve the PDE. Now we use one solution to train the model to identify the PDE and another data set to train the model to solve the PDE. \n",
    "\n",
    "#### Data Preprocessing\n",
    "We load the data for a different solution to the Swift-Hohenberg Equation. See Section 4.2 of the accompanying technical report for plots of these solutions. "
   ]
  },
  {
   "cell_type": "code",
   "execution_count": 67,
   "id": "5ba2f0a1",
   "metadata": {
    "tags": []
   },
   "outputs": [],
   "source": [
    "# load the other data for SH\n",
    "data_sol=scipy.io.loadmat(\"data/exp1d_HD_even.mat\")"
   ]
  },
  {
   "cell_type": "code",
   "execution_count": 68,
   "id": "4835fab4",
   "metadata": {},
   "outputs": [],
   "source": [
    "# Format the data\n",
    "t_sol = data_sol['tspan'].flatten()[:,None]\n",
    "x_sol = data_sol['spatial_vec'].flatten()[:,None]\n",
    "u_sol = np.real(data_sol['data'])\n",
    "\n",
    "lb_sol=np.array([min(t_sol)[0], min(x_sol)[0]])\n",
    "ub_sol=np.array([max(t_sol)[0], max(x_sol)[0]])\n",
    "\n",
    "T_sol, X_sol = np.meshgrid(t_sol,x_sol)\n",
    "\n",
    "# flatten the data to vector form\n",
    "t_sol_col=T_sol.flatten()[:,None]\n",
    "x_sol_col=X_sol.flatten()[:,None]\n",
    "dom_sol_col=np.hstack((t_sol_col, x_sol_col))\n",
    "u_sol_col=u_sol.flatten()[:,None]"
   ]
  },
  {
   "cell_type": "markdown",
   "id": "3499fda3",
   "metadata": {
    "tags": []
   },
   "source": [
    "Here we have the option to add noise to the data. Similar to the previous experiment, the results from noiseless training data where not compelling enough to do so. "
   ]
  },
  {
   "cell_type": "code",
   "execution_count": 69,
   "id": "151b054f",
   "metadata": {},
   "outputs": [],
   "source": [
    "# set the noise level and perturb the training data\n",
    "noise = 0.00\n",
    "u_train = u_train + noise*np.std(u_train)*np.random.randn(u_train.shape[0], u_train.shape[1])"
   ]
  },
  {
   "cell_type": "markdown",
   "id": "c1e783c4",
   "metadata": {},
   "source": [
    "Now we choose the training data to construct the solution $u(x,t)$. We will choose a number of points from the initial data at $t = 0$, a number of points containing other boundary data and a number of points from the interior of the domain that function as collocation points for the network $f$ and serve to enforce the structure of the learned PDE."
   ]
  },
  {
   "cell_type": "code",
   "execution_count": 70,
   "id": "cfed17f4",
   "metadata": {},
   "outputs": [],
   "source": [
    "# choose the \n",
    "N0 = u_sol.shape[0]\n",
    "N_b = u_sol.shape[1]\n",
    "N_f = 2000"
   ]
  },
  {
   "cell_type": "code",
   "execution_count": 71,
   "id": "9e4a3e96",
   "metadata": {},
   "outputs": [],
   "source": [
    "x_indices=np.random.choice(x_sol.shape[0], N0, replace=False)\n",
    "x0_train=x_sol[x_indices,:]\n",
    "u0_train=u_sol[x_indices,0:1]"
   ]
  },
  {
   "cell_type": "code",
   "execution_count": 72,
   "id": "20cadc27",
   "metadata": {},
   "outputs": [],
   "source": [
    "t_indices=np.random.choice(t_sol.shape[0],N_b, replace=False)\n",
    "tb_train=t_sol[t_indices,:]"
   ]
  },
  {
   "cell_type": "code",
   "execution_count": 73,
   "id": "e755a75c",
   "metadata": {},
   "outputs": [],
   "source": [
    "X_f_train=lb_sol+(ub_sol-lb_sol)*lhs(2,N_f)"
   ]
  },
  {
   "cell_type": "markdown",
   "id": "741668ba",
   "metadata": {},
   "source": [
    "#### Initialize the model \n",
    "Now we decide how many layers we want and initialize our model. We must choose network architecture for $3$ neural networks; the solution $u(x,t)$, the PDE $\\mathcal N$ and the solver. "
   ]
  },
  {
   "cell_type": "code",
   "execution_count": 74,
   "id": "835c28f7",
   "metadata": {},
   "outputs": [],
   "source": [
    "# first u layer should be the number of inputs (x,t)\n",
    "u_layers = [2, 30, 30, 30, 30, 30, 1]\n",
    "# first pde layer should be the number of derivatives needed (max spatial order + max temporal order)\n",
    "pde_layers = [5, 40, 40, 40, 40, 40, 1]\n",
    "# for solving -- first layer should be number of inputs, last layer is number of outputs\n",
    "layers = [2, 30, 30, 30, 30, 30, 30, 1]\n",
    "    \n",
    "# Model -- we want to use t_train, x_train, etc from the previous data set to see if the network can extrapolate\n",
    "model = HPNN.DeepHPM(t_train, x_train, u_train,\n",
    "                x0_train, u0_train, tb_train, X_f_train,\n",
    "                u_layers, pde_layers,\n",
    "                layers,\n",
    "                lb_id, ub_id,\n",
    "                lb_sol, ub_sol)"
   ]
  },
  {
   "cell_type": "markdown",
   "id": "1652e1eb",
   "metadata": {},
   "source": [
    "#### Train and Predict\n",
    "First we train the identifier."
   ]
  },
  {
   "cell_type": "code",
   "execution_count": 75,
   "id": "7c1d8ee2",
   "metadata": {},
   "outputs": [
    {
     "name": "stdout",
     "output_type": "stream",
     "text": [
      "INFO:tensorflow:Optimization terminated with:\n",
      "  Message: CONVERGENCE: REL_REDUCTION_OF_F_<=_FACTR*EPSMCH\n",
      "  Objective function value: 0.011507\n",
      "  Number of iterations: 14978\n",
      "  Number of functions evaluations: 15796\n",
      "INFO:tensorflow:Optimization terminated with:\n",
      "  Message: STOP: TOTAL NO. of f AND g EVALUATIONS EXCEEDS LIMIT\n",
      "  Objective function value: 0.057742\n",
      "  Number of iterations: 46387\n",
      "  Number of functions evaluations: 50001\n"
     ]
    }
   ],
   "source": [
    "model.idn_u_train(N_iter=0)\n",
    "model.idn_f_train(N_iter=0)"
   ]
  },
  {
   "cell_type": "markdown",
   "id": "31a9e08c",
   "metadata": {},
   "source": [
    "Next, we train the solver. "
   ]
  },
  {
   "cell_type": "code",
   "execution_count": 76,
   "id": "a3168c58",
   "metadata": {},
   "outputs": [
    {
     "name": "stdout",
     "output_type": "stream",
     "text": [
      "INFO:tensorflow:Optimization terminated with:\n",
      "  Message: CONVERGENCE: REL_REDUCTION_OF_F_<=_FACTR*EPSMCH\n",
      "  Objective function value: 27.219980\n",
      "  Number of iterations: 1459\n",
      "  Number of functions evaluations: 1853\n"
     ]
    }
   ],
   "source": [
    "model.sol_train(N_iter=0)\n",
    "u_pred, f_pred = model.sol_predict(t_sol_col, x_sol_col)\n",
    "u_pred_id, f_pred_id = model.sol_predict(t_id_col, x_id_col)"
   ]
  },
  {
   "cell_type": "code",
   "execution_count": 77,
   "id": "7def0b1d",
   "metadata": {},
   "outputs": [
    {
     "name": "stdout",
     "output_type": "stream",
     "text": [
      "Relative Error of u: 1.011189e+00\n",
      "Error of u: 1.756449e+02\n",
      "Erro of u (identification): 1.009590e+00\n"
     ]
    }
   ],
   "source": [
    "# print errors\n",
    "error_u = np.linalg.norm(u_sol_col-u_pred,2)\n",
    "error_u_id = np.linalg.norm(u_id_col-u_pred_id,2)/np.linalg.norm(u_id_col,2)\n",
    "\n",
    "print('Relative Error of u: %e' % (error_u/np.linalg.norm(u_sol_col,2)))\n",
    "print('Error of u: %e' % (error_u))\n",
    "print('Erro of u (identification): %e' % (error_u_id))\n",
    "\n",
    "U_pred = griddata(dom_sol_col, u_pred.flatten(), (T_sol, X_sol), method='cubic')"
   ]
  },
  {
   "cell_type": "markdown",
   "id": "4eafbc90",
   "metadata": {},
   "source": [
    "Now we plot the true and predicted dynamics. With the choice of initial conditions, we expect to see uniform stripes. "
   ]
  },
  {
   "cell_type": "code",
   "execution_count": 78,
   "id": "5cee56bc",
   "metadata": {},
   "outputs": [
    {
     "data": {
      "image/png": "[encoded data removed]",
      "text/plain": [
       "<Figure size 432x288 with 2 Axes>"
      ]
     },
     "metadata": {
      "needs_background": "light"
     },
     "output_type": "display_data"
    }
   ],
   "source": [
    "# plot as before\n",
    "fig, ax = plt.subplots()\n",
    "ax.axis('off')\n",
    "\n",
    "h = ax.imshow(u_sol, interpolation='nearest', cmap='Spectral', \n",
    "              extent=[lb_sol[0], ub_sol[0], lb_sol[1], ub_sol[1]],\n",
    "              origin='lower', aspect='auto')\n",
    "divider = make_axes_locatable(ax)\n",
    "cax = divider.append_axes(\"right\", size=\"5%\", pad=0.05)\n",
    "fig.colorbar(h, cax=cax)\n",
    "line = np.linspace(lb_sol[1], ub_sol[1], 2)[:,None]\n",
    "\n",
    "ax.set_xlabel('$t$')\n",
    "ax.set_ylabel('$x$')\n",
    "ax.set_title('True Dynamics', fontsize = 10)\n",
    "ax.plot(t_id[keep_index]*np.ones((2,1)), line, 'k--', linewidth = 1, label=\"Cutoff for training data\")\n",
    "ax.legend(loc='upper center', bbox_to_anchor=(0.5, -0.15), ncol=5, frameon=False)\n",
    "\n",
    "fig.savefig('pdfHD_rolls_2_true.pdf', bbox_inches='tight')\n",
    "fig.show()"
   ]
  },
  {
   "cell_type": "code",
   "execution_count": 79,
   "id": "c3d64a6c",
   "metadata": {},
   "outputs": [
    {
     "data": {
      "image/png": "[encoded data removed]",
      "text/plain": [
       "<Figure size 432x288 with 2 Axes>"
      ]
     },
     "metadata": {
      "needs_background": "light"
     },
     "output_type": "display_data"
    }
   ],
   "source": [
    "# plot as before\n",
    "fig, ax = plt.subplots()\n",
    "ax.axis('off')\n",
    "h = ax.imshow(U_pred, interpolation='nearest', cmap='Spectral', \n",
    "              extent=[lb_sol[0], ub_sol[0], lb_sol[1], ub_sol[1]], \n",
    "              origin='lower', aspect='auto')\n",
    "divider = make_axes_locatable(ax)\n",
    "cax = divider.append_axes(\"right\", size=\"5%\", pad=0.05)\n",
    "fig.colorbar(h, cax=cax)\n",
    "line = np.linspace(lb_sol[1], ub_sol[1], 2)[:,None]\n",
    "\n",
    "ax.set_xlabel('$t$')\n",
    "ax.set_ylabel('$x$')\n",
    "ax.set_title('Learned Dynamics', fontsize = 10)\n",
    "ax.plot(t_id[keep_index]*np.ones((2,1)), line, 'k--', linewidth = 1, label=\"Cutoff for training data\")\n",
    "ax.legend(loc='upper center', bbox_to_anchor=(0.5, -0.15), ncol=5, frameon=False)\n",
    "\n",
    "fig.savefig('pdfHD_rolls_1_2_discover.pdf', bbox_inches='tight')\n",
    "fig.show()"
   ]
  },
  {
   "cell_type": "code",
   "execution_count": null,
   "id": "42f4b2ab",
   "metadata": {},
   "outputs": [],
   "source": []
  }
 ],
 "metadata": {
  "kernelspec": {
   "display_name": "Python 3",
   "language": "python",
   "name": "python3"
  },
  "language_info": {
   "codemirror_mode": {
    "name": "ipython",
    "version": 3
   },
   "file_extension": ".py",
   "mimetype": "text/x-python",
   "name": "python",
   "nbconvert_exporter": "python",
   "pygments_lexer": "ipython3",
   "version": "3.7.10"
  }
 },
 "nbformat": 4,
 "nbformat_minor": 5
}
